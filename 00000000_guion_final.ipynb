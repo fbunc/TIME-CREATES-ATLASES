{
 "cells": [
  {
   "cell_type": "markdown",
   "metadata": {},
   "source": [
    "# Guión video emmynoether"
   ]
  },
  {
   "cell_type": "code",
   "execution_count": 3,
   "metadata": {},
   "outputs": [],
   "source": [
    "import pandas as pd\n",
    "import pandas as pd\n",
    "import numpy as np\n",
    "import calendar\n",
    "import random\n",
    "import matplotlib.pyplot as plt\n",
    "from matplotlib.path import Path\n",
    "from matplotlib import cm\n",
    "from mpl_toolkits.mplot3d import Axes3D\n",
    "from matplotlib import image\n",
    "import matplotlib.animation as animation\n",
    "from matplotlib.animation import FuncAnimation, FFMpegWriter\n",
    "from manim_voiceover import VoiceoverScene\n",
    "from manim_voiceover.services.recorder import RecorderService\n",
    "from manim_voiceover.services.gtts import GTTSService\n",
    "import warnings\n",
    "warnings.filterwarnings(\"ignore\")\n",
    "from manim import *\n",
    "config.media_width = \"100%\"\n",
    "config.verbosity = \"WARNING\"\n",
    "import compass_functions as cf"
   ]
  },
  {
   "cell_type": "markdown",
   "metadata": {},
   "source": [
    "## Objetivo: Compartir mi pasión por las matemáticas y explorar conceptos desde una perspectiva autodidacta.\n",
    "\n",
    "El objetivo de este material es compartir mi entusiasmo por las matemáticas, las cuales estudio desde hace varios años de manera autodidacta. Durante mi tiempo libre, me he dedicado a explorar temas que quedaron relegados durante mi educación formal. Este proceso ha sido una experiencia terapéutica y gratificante para mí.\n",
    "\n",
    "## Motivación: Agradecimiento y admiración por quienes comparten conocimiento.\n",
    "\n",
    "Lo que me inspiró a contribuir con este proyecto es el agradecimiento y la admiración que siento por quienes comparten contenidos matemáticos de excelente calidad y con una atención meticulosa a los detalles. Me encantaría encontrar una forma de colaborar en el ámbito de la docencia, un oficio que siempre recuerdo con cariño.\n",
    "\n",
    "Además, crear contenido a medida que estudio me permite generar apuntes para el futuro y anotaciones de clase valiosas. Esto me ha llevado a ser consciente de cuánto aún queda por aprender, lo cual me motiva a seguir explorando con entusiasmo.\n",
    "\n",
    "## Contenido a compartir: Explorando conceptos matemáticos atractivos.\n",
    "\n",
    "Siguiendo el espíritu del último video de M² sobre gráficas matemáticas atractivas, compartiré una forma circular de representar información y estudiar correlaciones. Para lograrlo, me adentraré en el fascinante mundo de los números complejos, explorando la idea de los epiciclos y una visión diferente de las figuras de Lissajous. También presentaré una interesante representación circular de series temporales.\n",
    "\n",
    "## Pre-requisitos para entender el contenido: Conocimientos previos en matemáticas.\n",
    "\n",
    "Para aprovechar al máximo el contenido, se sugiere tener cierto nivel de conocimientos previos en matemáticas. Es útil haber escuchado sobre los números complejos y haber explorado sus aplicaciones básicas. Se entenderán mas detalles del video si el espectador ya conoce conceptos como la transformada de Laplace, las series de Fourier y el fenómeno de Gibbs.\n",
    "\n",
    "Para facilitar la comprensión, abordaré los números complejos desde una perspectiva menos intimidante, pensándolos inicialmente en coordenadas polares y luego explorando sus coordenadas cartesianas. Estoy convencido de que, con una aproximación adecuada, estos conceptos pueden resultar menos complejos y más accesibles para todos.\n",
    "\n",
    "## Apuntes para docentes y entusiastas: Uso de Manim para la divulgación.\n",
    "\n",
    "Para aquellos interesados en la docencia y en la creación de contenido matemático visual, compartiré un notebook de Jupyter que detalla el proceso de creación del video utilizando el software \"Manim\". Este recurso puede ahorrar tiempo y ser de utilidad para quienes deseen utilizar esta herramienta para la divulgación matemática.\n",
    "\n",
    "Además, incluso si algunos espectadores no comprenden por completo el video, espero que disfruten de la explicación y las gráficas, lo que puede generar una apreciación por estos interesantes conceptos.\n",
    "\n",
    "## Dedicado a ST : Una ventana al mundo de los números complejos.\n",
    "\n",
    "En este viaje matemático, dedico este video a un amigo que me escucha con paciencia cuando me emociono hablando de números complejos y otros temas nerds. Creo que cualquier persona que comprenda el teorema de Pitágoras puede dar un pequeño paso para entender lo que son los números complejos, y me gustaría compartir esta experiencia con él.\n",
    "\n",
    "En resumen, este proyecto tiene como objetivo compartir mi pasión por las matemáticas, explorar temas desde una perspectiva autodidacta y contribuir al mundo de la docencia mediante contenido detallado. Espero que este material sea útil e interesante para todos aquellos que deseen aprender más sobre estos fascinantes conceptos matemáticos. También, espero inspirar a otros docentes a utilizar herramientas visuales como Manim para la divulgación educativa. ¡Bienvenidos a este viaje matemático!"
   ]
  },
  {
   "cell_type": "code",
   "execution_count": null,
   "metadata": {},
   "outputs": [],
   "source": []
  },
  {
   "cell_type": "markdown",
   "metadata": {},
   "source": [
    "# Figuras de Lissajous\n",
    "\n",
    "Si en un osciloscopio, que normalmente tiene dos canales de entrada que podemos llamar (X,Y) ponemos dos señales sinusoidales distintas, es equivalente a ver la gráfica definida en ecuaciones paramétricas de :\n",
    "\n",
    "$$x(t)=A_x \\sin(\\omega_x t+\\alpha)$$\n",
    "\n",
    "$$y(t)=A_y \\sin(\\omega_y t+\\beta)$$\n",
    "\n",
    "La relación entre las fases de las dos expresiones anteriores se suele llamar :\n",
    "\n",
    "$$\\delta=\\alpha-\\beta$$\n",
    "\n",
    "\n",
    "También podemos escribir:\n",
    "\n",
    "$$x(t)=A_x \\cos(\\omega_x t+\\alpha-\\frac{\\pi}{2})$$\n",
    "\n",
    "$$y(t)=A_y \\sin(\\omega_y t+\\beta)$$\n",
    "\n",
    "\n",
    "### Usando exponenciales complejas\n",
    "\n",
    "$$x(t) = \\frac{A_x}{2i} \\left(e^{i(\\omega_x t + \\alpha)} - e^{-i(\\omega_x t + \\alpha)}\\right)$$\n",
    "\n",
    "$$y(t) = \\frac{A_y}{2i} \\left(e^{i(\\omega_y t + \\beta)} - e^{-i(\\omega_y t + \\beta)}\\right)$$\n",
    "\n",
    "$$z(t)=\\frac{A_x}{2i} \\left(e^{i(\\omega_x t + \\alpha)} - e^{-i(\\omega_x t + \\alpha)}\\right)+i\\frac{A_y}{2i} \\left(e^{i(\\omega_y t + \\beta)} - e^{-i(\\omega_y t + \\beta)}\\right)$$\n",
    "\n",
    "Simplificando y expandiendo podemos escribir:\n",
    "\n",
    "$$\\frac{1}{2} i A_x e^{-i(\\omega_x t + \\alpha)} - \\frac{1}{2} i A_x e^{i(\\omega_x t + \\alpha)} - \\frac{1}{2} A_y e^{-i(\\omega_y t + \\beta)} + \\frac{1}{2} A_y e^{i(\\omega_y t + \\beta)}$$\n",
    "\n",
    "$$\\frac{1}{2} i A_x \\left(e^{-i \\omega_x t} e^{-i \\alpha} \\right) - \\frac{1}{2} i A_x \\left(e^{i \\omega_x t} e^{i \\alpha} \\right) - \\frac{1}{2} A_y \\left(e^{-i \\omega_y t} e^{-i \\beta} \\right) + \\frac{1}{2} A_y \\left(e^{i \\omega_y t} e^{i \\beta} \\right)$$"
   ]
  },
  {
   "cell_type": "markdown",
   "metadata": {},
   "source": [
    "$$\\frac{1}{2} i e^{-i \\alpha}A_x \\left(e^{-i \\omega_x t}  \\right) - \\frac{1}{2} i A_xe^{i \\alpha} \\left(e^{i \\omega_x t}  \\right) - \\frac{1}{2} A_ye^{-i \\beta} \\left(e^{-i \\omega_y t}  \\right) + \\frac{1}{2} A_y e^{i \\beta}\\left(e^{i \\omega_y t}  \\right)$$\n",
    "\n"
   ]
  },
  {
   "cell_type": "markdown",
   "metadata": {},
   "source": [
    "\"Los métodos basados en la transformada de Fourier se utilizan en prácticamente todas las áreas de ingeniería y ciencia, y son empleados por prácticamente todos los ingenieros y científicos. Para empezar:\n",
    "• Diseñadores de circuitos\n",
    "• Espectroscopistas\n",
    "• Cristalógrafos\n",
    "• Cualquier persona que trabaje en procesamiento de señales y comunicaciones\n",
    "• Cualquier persona que trabaje en imágenes\n",
    "\n",
    "Espero que en esta clase haya representación de muchos campos e intereses, y esto nos lleva a un tema importante del cual todos debemos ser conscientes. Dada la diversidad de intereses y antecedentes presentes, no todos los ejemplos y aplicaciones serán familiares o relevantes para todas las personas. Todos tendremos que ser comprensivos entre nosotros y aprovechar la oportunidad para explorar nuevos campos. En el mismo sentido, también es importante que se den cuenta de que este es solo un curso sobre la transformada de Fourier entre muchos posibles cursos. La riqueza del tema, tanto matemáticamente como en su variedad de aplicaciones, implica que constantemente haremos elecciones. Los libros sobre el tema no son todos iguales, ni se parecen a estas notas; incluso la notación utilizada para los objetos y operaciones básicas puede variar de un libro a otro. Trataré de señalar cuando una elección específica nos lleva por un cierto camino y trataré de mencionar algo sobre las rutas alternativas posibles.\n",
    "\n",
    "La primera elección es dónde comenzar, y mi elección es un tratamiento breve de las series de Fourier.1 El análisis de Fourier se ocupó originalmente de representar y analizar fenómenos periódicos, mediante las series de Fourier, y luego de extender esos conocimientos a fenómenos no periódicos, mediante la transformada de Fourier. De hecho, una forma de pasar de las series de Fourier a la transformada de Fourier es considerar los fenómenos no periódicos (y, por lo tanto, prácticamente cualquier función general) como un caso límite de los fenómenos periódicos cuando el período tiende a infinito. Un conjunto discreto de frecuencias en el caso periódico se convierte en un continuo de frecuencias en el caso no periódico, nace el espectro y con él viene el principio más importante del tema:\n",
    "\n",
    "Cada señal tiene un espectro y está determinada por su espectro. Puedes analizar la señal tanto en el dominio del tiempo (o espacial) como en el dominio de la frecuencia.\n",
    "\n",
    "1 Por ejemplo, Bracewell comienza directamente con la transformada de Fourier y aborda un poco las series de Fourier más adelante.\"\n",
    "\n",
    "Ahora, te proporcionaré las fórmulas relevantes en LaTeX:\n",
    "\n",
    "1. La definición de la transformada de Fourier de una función continua en el tiempo \\(f(t)\\) es:\n",
    "\n",
    "$$\n",
    "\\mathcal{F}\\{f(t)\\} = F(\\omega) = \\int_{-\\infty}^{\\infty} f(t) \\cdot e^{-j\\omega t} \\, dt\n",
    "$$\n",
    "\n",
    "2. La transformada de Fourier inversa para recuperar \\(f(t)\\) a partir de \\(F(\\omega)\\) es:\n",
    "\n",
    "$$\n",
    "\\mathcal{F}^{-1}\\{F(\\omega)\\} = f(t) = \\frac{1}{2\\pi} \\int_{-\\infty}^{\\infty} F(\\omega) \\cdot e^{j\\omega t} \\, d\\omega\n",
    "$$\n",
    "\n",
    "3. La serie de Fourier de una función periódica \\(p(t)\\) con período \\(T\\) es:\n",
    "\n",
    "$$\n",
    "p(t) = a_0 + \\sum_{n=1}^{\\infty} \\left(a_n \\cdot \\cos\\left(\\frac{2\\pi n t}{T}\\right) + b_n \\cdot \\sin\\left(\\frac{2\\pi n t}{T}\\right)\\right)\n",
    "$$\n",
    "\n",
    "donde \\(a_0\\) es el coeficiente de continua y \\(a_n\\) y \\(b_n\\) son los coeficientes de Fourier.\n",
    "\n",
    "Espero que esta información te sea útil. Si necesitas algo más o tienes alguna pregunta, no dudes en decírmelo."
   ]
  },
  {
   "cell_type": "markdown",
   "metadata": {},
   "source": [
    "¡Claro! Aquí tienes las fórmulas de la Serie de Fourier Discreta y la Transformada Z en LaTeX:\n",
    "\n",
    "1. Serie de Fourier Discreta (DFT - Discrete Fourier Transform):\n",
    "La Serie de Fourier Discreta se utiliza para analizar señales periódicas en el dominio discreto (muestras) en lugar del dominio continuo. Para una secuencia de valores \\(x[n]\\) con \\(N\\) muestras, la DFT se define como:\n",
    "\n",
    "$$\n",
    "X[k] = \\sum_{n=0}^{N-1} x[n] \\cdot e^{-j\\frac{2\\pi}{N}kn} \\quad \\text{para} \\quad k = 0, 1, 2, \\ldots, N-1\n",
    "$$\n",
    "\n",
    "La transformada inversa, para recuperar la secuencia \\(x[n]\\) a partir de \\(X[k]\\), se define como:\n",
    "\n",
    "$$\n",
    "x[n] = \\frac{1}{N} \\sum_{k=0}^{N-1} X[k] \\cdot e^{j\\frac{2\\pi}{N}kn} \\quad \\text{para} \\quad n = 0, 1, 2, \\ldots, N-1\n",
    "$$\n",
    "\n",
    "2. Transformada Z:\n",
    "La Transformada Z es una herramienta importante en el análisis de señales y sistemas discretos. Para una secuencia de valores \\(x[n]\\) con \\(n\\) entero, la Transformada Z se define como:\n",
    "\n",
    "$$\n",
    "X(z) = \\sum_{n=-\\infty}^{\\infty} x[n] \\cdot z^{-n}\n",
    "$$\n",
    "\n",
    "Donde \\(z\\) puede ser un número complejo o una variable compleja. La Transformada Z es útil para representar sistemas lineales e invariantes en el tiempo en el dominio \\(z\\), lo que permite el análisis de su estabilidad, respuesta en frecuencia y otros aspectos importantes.\n",
    "\n",
    "Espero que esta información sea de utilidad. Si tienes más preguntas o necesitas más aclaraciones, no dudes en preguntar. ¡Buena suerte con tus estudios!"
   ]
  },
  {
   "cell_type": "markdown",
   "metadata": {},
   "source": [
    "Por supuesto, aquí tienes la fórmula de la Transformada de Laplace en LaTeX:\n",
    "\n",
    "La Transformada de Laplace es una herramienta matemática que se utiliza en el análisis de sistemas lineales e invariantes en el tiempo. Para una función \\(f(t)\\) definida para \\(t \\geq 0\\), su Transformada de Laplace \\(F(s)\\) se define como:\n",
    "\n",
    "$$\n",
    "F(s) = \\mathcal{L}\\{f(t)\\} = \\int_{0}^{\\infty} f(t) \\cdot e^{-st} \\, dt\n",
    "$$\n",
    "\n",
    "donde \\(s\\) es una variable compleja. La integral se evalúa desde \\(t = 0\\) hasta \\(t = \\infty\\).\n",
    "\n",
    "La Transformada de Laplace \\(F(s)\\) proporciona una representación de la función \\(f(t)\\) en el dominio de Laplace, lo que permite analizar el comportamiento de la función en términos de la variable compleja \\(s\\). Esta transformación es especialmente útil para resolver ecuaciones diferenciales lineales y sistemas dinámicos.\n",
    "\n",
    "Espero que esta fórmula sea lo que buscas. Si tienes más preguntas o necesitas más información, no dudes en preguntar. ¡Buena suerte en tus estudios!"
   ]
  },
  {
   "cell_type": "markdown",
   "metadata": {},
   "source": [
    "# "
   ]
  }
 ],
 "metadata": {
  "kernelspec": {
   "display_name": "Python 3",
   "language": "python",
   "name": "python3"
  },
  "language_info": {
   "codemirror_mode": {
    "name": "ipython",
    "version": 3
   },
   "file_extension": ".py",
   "mimetype": "text/x-python",
   "name": "python",
   "nbconvert_exporter": "python",
   "pygments_lexer": "ipython3",
   "version": "3.10.12"
  },
  "orig_nbformat": 4
 },
 "nbformat": 4,
 "nbformat_minor": 2
}
