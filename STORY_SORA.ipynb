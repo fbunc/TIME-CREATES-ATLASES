{
 "cells": [
  {
   "cell_type": "markdown",
   "metadata": {},
   "source": [
    "# TAU INTRO\n",
    "I want to tell a story of a Planet called Tau, where Math was sacred. math teachers dressed like wizards and were always happy to show the magic to the students with the will to learn. Their calendar had only 13 months of 28 days each. because the solar system where Tau lives was mathematically simpler to describe than ours as we will see."
   ]
  },
  {
   "cell_type": "code",
   "execution_count": null,
   "metadata": {},
   "outputs": [],
   "source": []
  }
 ],
 "metadata": {
  "language_info": {
   "name": "python"
  }
 },
 "nbformat": 4,
 "nbformat_minor": 2
}
