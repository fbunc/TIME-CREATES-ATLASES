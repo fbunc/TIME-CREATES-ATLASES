{
 "cells": [
  {
   "cell_type": "markdown",
   "metadata": {},
   "source": [
    "# Si Ptolomeo hubiese conocido a Fourier \n",
    "\n",
    "La motivación para compartir éste material es el agradecimiento y admiración que siento por los divulgadores que hay en ésta plataforma. Éste documento tiene la intención de aportar un granito de arena a éstas iniciativas. "
   ]
  },
  {
   "cell_type": "markdown",
   "metadata": {},
   "source": [
    "## Librerías usadas "
   ]
  },
  {
   "cell_type": "code",
   "execution_count": 1,
   "metadata": {},
   "outputs": [
    {
     "data": {
      "text/html": [
       "<pre style=\"white-space:pre;overflow-x:auto;line-height:normal;font-family:Menlo,'DejaVu Sans Mono',consolas,'Courier New',monospace\">Manim Community <span style=\"color: #008000; text-decoration-color: #008000\">v0.17.3</span>\n",
       "\n",
       "</pre>\n"
      ],
      "text/plain": [
       "Manim Community \u001b[32mv0.\u001b[0m\u001b[32m17.3\u001b[0m\n",
       "\n"
      ]
     },
     "metadata": {},
     "output_type": "display_data"
    }
   ],
   "source": [
    "import compass_functions as cf\n",
    "import pandas as pd\n",
    "import sympy as sp\n",
    "import mpmath as mp \n",
    "import numpy as np\n",
    "from scipy.fft import fft, ifft\n",
    "from latex2sympy2 import latex2sympy, latex2latex\n",
    "from manim import *\n",
    "import calendar\n",
    "import random\n",
    "import matplotlib.pyplot as plt\n",
    "from matplotlib.path import Path\n",
    "from matplotlib import cm\n",
    "from mpl_toolkits.mplot3d import Axes3D\n",
    "from matplotlib import image\n",
    "import matplotlib.animation as animation\n",
    "from matplotlib.animation import FuncAnimation, FFMpegWriter\n",
    "from manim_voiceover import VoiceoverScene \n",
    "\n",
    "from manim_voiceover.services.recorder import RecorderService\n",
    "from manim_voiceover.services.gtts import GTTSService\n",
    "import warnings\n",
    "warnings.filterwarnings(\"ignore\")\n",
    "config.media_width = \"100%\"\n",
    "config.verbosity = \"WARNING\"\n",
    "\n",
    "from sympy import symbols, Eq, latex, sqrt,solve ,Function \n",
    "from sympy import   I, simplify, expand , print_latex,init_printing\n",
    "from sympy import Symbol, sin,cos,arg,exp ,integrate,Derivative,Integral  \n",
    "from sympy.utilities.lambdify import lambdify\n",
    "sp.init_printing()\n",
    "from IPython.display import Markdown as md\n",
    "#DSP con placa de audio \n",
    "import sounddevice as sd\n",
    "# Ajustes del fondo de plot para matplotlib \n",
    "plt.rcParams.update({\n",
    "        \"lines.color\": \"black\",\n",
    "        \"patch.edgecolor\": \"black\",\n",
    "        \"text.color\": \"white\",\n",
    "        \"axes.facecolor\": \"black\",\n",
    "        \"axes.edgecolor\": \"black\",\n",
    "        \"axes.labelcolor\": \"black\",\n",
    "        \"xtick.color\": \"white\",\n",
    "        \"ytick.color\": \"white\",\n",
    "        \"grid.color\": \"white\",\n",
    "        \"figure.facecolor\": \"black\",\n",
    "        \"figure.edgecolor\": \"black\",\n",
    "        \"savefig.facecolor\": \"black\",\n",
    "        \"savefig.edgecolor\": \"black\"})\n",
    "\n"
   ]
  },
  {
   "cell_type": "markdown",
   "metadata": {},
   "source": [
    "https://voiceover.manim.community/en/latest/quickstart.html"
   ]
  },
  {
   "cell_type": "markdown",
   "metadata": {},
   "source": [
    "## Plots en Manim "
   ]
  },
  {
   "cell_type": "code",
   "execution_count": 2,
   "metadata": {},
   "outputs": [],
   "source": [
    "# %%manim -qh PlotIntro\n",
    "# t=np.linspace(0,2*np.pi,360)\n",
    "# omega_x=1\n",
    "# omega_y=2\n",
    "# a=2\n",
    "# b=1\n",
    "\n",
    "# theta_xp=(a/2)*np.exp(1j*omega_x*t)\n",
    "# theta_yp=(b/2)*np.exp(1j*omega_y*t)\n",
    "# theta_xn=(a/2)*np.exp(-1j*omega_x*t)\n",
    "# theta_yn=(-b/2)*np.exp(-1j*omega_y*t)\n",
    "# lemniscata=theta_xp+theta_xn+theta_yp+theta_yn\n",
    "\n",
    "# leminscata_pure=a*np.cos(t)/(1+(np.sin(t))**2)+1j*a*np.cos(t)*np.sin(t)/(1+(np.sin(t))**2)\n",
    "# complex_arrays=[theta_xp,theta_yp,theta_xn,theta_yn,leminscata_pure] #,lemniscata\n",
    "# run_time=24        # Tiempo total de la animacion\n",
    "# esperar=3\n",
    "# angles = np.angle(-theta_xp)\n",
    "# normalized_angles = (angles - np.min(angles)) / (np.max(angles) - np.min(angles))\n",
    "\n",
    "# class PlotIntro(Scene):\n",
    "#     def construct(self):\n",
    "      \n",
    "        \n",
    "#         theta_text = MathTex(r\"\\tau\")\n",
    "#         self.play(Write(theta_text))\n",
    "\n",
    "#         # dot_f1 = Dot(point=(f1.real, f1.imag, 0),color=WHITE)\n",
    "#         # dot_f2 = Dot(point=(f2.real, f2.imag, 0),color=WHITE)        \n",
    "#         #self.add(dot_f1,dot_f2)\n",
    "\n",
    "#         dots_groups = []\n",
    "#         for complex_array in complex_arrays:\n",
    "#             dots_group = self.plot_complex_points(complex_array)\n",
    "#             dots_groups.append(dots_group)\n",
    "\n",
    "#         self.play(*[Write(dots_group, run_time=run_time,lag_ratio=1) for dots_group in dots_groups])\n",
    "\n",
    "#         self.wait(esperar)\n",
    "    \n",
    "\n",
    "\n",
    "#     def plot_complex_points(self, complex_array):\n",
    "#         dots = VGroup()\n",
    "        \n",
    "#         colormap = plt.get_cmap(\"hsv\")\n",
    "#         for complex_point, angle in zip(complex_array, normalized_angles):\n",
    "#             rgb_color = colormap(angle)[:3]  # Extract RGB values\n",
    "#             hex_color = \"#\" + \"\".join([f\"{int(c * 255):02x}\" for c in rgb_color])\n",
    "#             dot = Dot(complex_to_R3(complex_point), color=hex_color,fill_opacity=0.3)\n",
    "#             dots.add(dot)\n",
    "\n",
    "#         return dots\n",
    "\n",
    "\n",
    "\n",
    "     "
   ]
  },
  {
   "cell_type": "markdown",
   "metadata": {},
   "source": [
    "## Intro\n",
    "\n",
    "Ésta es una historia de ficción que tiene el objetivo de ayudar a ilustrar algunas intuiciones matemáticas que considero interesantes. \n",
    "\n",
    "La intención es que el contenido sea agradable para cualquier persona que no esté familiarizado con los temas tratados.  \n",
    "\n",
    "Pero al mismo tiempo se agregarán detalles que pueden ser de interés para estudiantes de bachillerato o ya en nivel universitario. \n",
    "\n",
    "Tal vez sea de interés para docentes, ya que en la descripción hay un link a el código fuente usado para la realización de éste contenido usando SymPy, Manim, NumPy, Matplotlib, y varias librerías de Python adecuadas tanto para el cálculo y la manipulación simbólica sino también para la creación de contenido audiovisual en un workflow simplificado que me ha sido de utilidad ya que  soy nuevo en éste lenguaje y cómo seguro muchos viendo éste video vengo de la época en que se usaba Matlab. \n",
    "\n",
    "\n",
    "## Epiciclos, Atlas del tiempo y Números Compás\n",
    "Para situarnos en éste experimento mental imaginaremos inicialmente un modelo simplificado de 3 cuerpos celestes tipo Estrella-Planeta-Satélite .(Sol-Tierra-Luna) \n",
    "\n",
    "Plantearemos los temas imaginando como serían presentados típicamente en un planeta ficticio (similar al nuestro)  que llamaremos Tau. \n",
    "\n",
    "En Tau los equivalentes a nuestros Ptolomeo / Copérnico /Kepler (En la historia de Tau tendremos uno solo que llamaremos simplemente Claudius) y el equivalente a Fourier (que llamaremos Joseph) fueron contemporáneos y amigos ambos estudiantes en la clase del profesor Hard Leon  (Cómo se llamaba en Tau el equivalente del gigante Leonhard Euler). \n",
    "\n",
    "En nuestro planeta Tierra, éstos personajes históricos junto con otros que mencionaremos con sus seudónimos  tales como Lissajous (En Tau llamado Antoine ) o J.S. Bach (en Tau lo llamaremos Sebastian), no fueron  contemporáneos (al menos no de la manera que ilustraremos en nuestro planeta ficticio). \n",
    "\n",
    "Por eso en nuestra historia paralela de Tau los pensaremos a-temporalmente sólo unidos por las relaciones entre sus descubrimientos individuales  y veremos cómo gracias a su gran profesor Hard Leon todos terminan descubriendo que están expresando lo mismo en diferentes lenguajes, mirando  y modelando la misma realidad fundamental desde distintas perspectivas. \n",
    "\n",
    "\n",
    "Podríamos haber elegido otros personajes históricos para hacer los paralelismos. Pero a medida que avancemos en el vídeo veremos por qué los elegidos son apropiados para dar una idea general y ayudar a la motivación/intuición  del público general y específicamente a estudiantes  que por primera vez se enfrentan a temas en la universidad que hacen uso de de las exponenciales complejas para, paradójicamente, simplificar los cálculos. \n",
    "\n",
    "También compartiré en la descripción un humilde documento con el código fuente usado para la creación de éste vídeo usando Python , y puntualmente se destaca el uso de la librería Manim creada por Grant S. y ahora mantenida por una enorme comunidad de desarrolladores que aprecian  la profunda  belleza de las clases magistrales  brindadas por éste gran divulgador.  \n",
    "\n",
    "El documento también muestra como usar Sympy para manipulaciones simbólicas y transformaciones de expresiones matemáticas desde o hacia formato LaTeX y la creación de funciones NumPy equivalentes a las expresiones simbólicas  para poder hacer visualizaciones con Matplotlib. Todo desde una Jupyter Notebook que puede ser usada (con alguna modificación menor) sin problemas en Google Colab (ver links en la descripción ) \n",
    "\n",
    "Espero que los documentos compartidos sirvan también  a docentes para crear contenidos visuales y herramientas de análisis y cálculo complementarias a los temas que tratan en sus clases.  \n",
    "\n",
    "\n",
    "## Números Compás \n",
    "\n",
    "Para dibujar la historia usaremos Números Complejos, pero justamente por que al usarlos todo resulta mucho mas fácil e intuitivo.\n",
    "\n",
    "Por eso, no dejes de ver el video si no estás familiarizado con el tema, ya que espero que te quedes con intuiciones que te ayudarán a entenderlo luego. \n",
    "\n",
    "La idea original de éste vídeo era hacer una introducción básica a la idea de número bidimensional. Pero si entraba en todas las formalidades básicas en el formato típico  de la educación académica, nunca iba a poder terminar la historia que une todos los hilos. Es por eso que en la descripción habrá enlaces a introducciones formales recomendadas apropiadas para distintos niveles de familiaridad con los temas tratados. \n",
    "\n",
    "Imaginemos que en Tau a ésta idea de número de 2 dimensiones, al haber sido su línea histórica de descubrimientos muy distinta a la nuestra los terminaron llamando Números Compás. \n",
    "\n",
    "Éste nombre era apropiado, ya que  se sabía en la historia de Tau que Claudius usaba mucho el compás como instrumento de dibujo y medición y también usaba números bidimensionales en coordenadas polares y/o cartesianas que le indicaban en qué posición del papel representar cada instante/lugar de su modelo,se sabía que los usaba como notación para representar y aproximar curvas y analizar la mecánica celeste  de forma simplificada. \n",
    "\n",
    "En castellano, Compás  también es una palabra relacionada con la música mediante la idea de Ritmo  y ésto viene dado,como veremos, por la influencia del trabajo de Sebastian  en Tau.\n",
    "\n",
    "Otro instrumento históricamente relacionado con el nombre elegido para los números mas populares en Tau, es el que usamos para ubicarnos en el espacio según el Campo Magnético de la Tierra que en castellano  llamamos Brújula (en inglés es Compass ).  \n",
    "\n",
    "Y ésto era apropiado en Tau, ya que también tuvieron a un equivalente a J. C. Maxwell que describió la naturaleza ondulatoria del campo electromagnético inspirándose en intuiciones fundamentales de éste estilo. (Como ilustración de ésta relación, pensar cómo  es que el azúcar, al ser una molécula que tiene una determinada quiralidad, modifica el comportamiento de la luz  que pasa a través de un cilindro que contiene un líquido azucarado.(Ver  link en la descripción What is Wiggling ?)\n",
    "\n",
    "\n",
    "## Qué relación tienen el calor, la luz y los epiciclos  ?\n",
    "\n",
    "Entender cómo en Tau el trabajo de Joseph está íntimamente relacionado con el trabajo de Claudius llevará un poco de tiempo.  \n",
    "\n",
    "Pero digamos como introducción que Joseph sufría mucho el frío (Según contó Steven S. en una entrevista con Grant S. ésto fue así en la Tierra, Fourier \"tenía literalmente frío\" ver link en la descripción). \n",
    "\n",
    "Es por ésto que Joseph en Tau,estaba buscando describir el comportamiento del calor usando el equivalente a  lo que en la Tierra llamamos ecuaciones diferenciales. \n",
    "\n",
    "Uno de los experimentos mentales de Joseph era unir dos barras metálicas una caliente y otra fría (o mejor dicho, menos caliente), y estudiar y tratar de modelar qué pasaba luego de un determinado tiempo $t$ con la distribución del calor entre las dos barras unidas. \n",
    "\n",
    "De forma misteriosa, inspirado por su profesor Hard Leon, ésto lo llevó a  aproximar una función que representada gráficamente tenía forma de escalón (ya que representaba un salto  entre las temperaturas de las dos barras en el punto de unión ). \n",
    "\n",
    "Las soluciones de esa ecuación diferencial, terminaron dando una solución que parecía funcionar usando la suma de \"infinitas\" combinaciones de ondas que tenían frecuencias que eran múltiplos enteros de una frecuencia fundamental que dependía de las longitudes de los materiales usados. (Ver fenómeno de Gibbs)\n",
    "\n",
    "\n",
    "* PLOTS DE FENOMENO DE GIBBS\n",
    "\n",
    "Claudius mientras tanto jugaba con  los cuerpos celestes usando modelos geocéntricos, heliocéntricos y otros. \n",
    "\n",
    "\n",
    "## Elipses y Simetrías \n",
    "\n",
    "Usó circunferencias inicialmente y luego se dió cuenta de que todo eran elipses de diferentes excentricidades, ya que todo lo que él era capaz de describir matemáticamente  veía que en esencia  estaba formado por la composición (o suma vectorial) de dos acciones/propiedades fundamentales opuestas  del tipo:\n",
    "\n",
    "* (giro_sentido_anti_horario,giro_sentido_horario)\n",
    "\n",
    "* $(+),(-)$ \n",
    "\n",
    "* (calor,frío)\n",
    "\n",
    "* (luz,oscuridad) \n",
    "\n",
    "* (arriba, abajo)\n",
    "\n",
    "* (derecha,izquierda)\n",
    "\n",
    "* $(i,-i)$\n",
    "\n",
    "* (1,-1)   \n",
    "\n",
    "\n",
    "\n",
    "* Videos de elipses VARIOS (ver en documento complementario )\n",
    "\n",
    "\n",
    "## Sumando epiciclos para ajustar modelos\n",
    "\n",
    "La obsesión  de Claudius era sumar epiciclos de forma tal que se puedan predecir mediante modelos matemáticos sencillos las trayectorias documentadas de los cuerpos celestes.\n",
    "\n",
    "Pero al igual que el trabajo de Joseph, sus ideas llegaron mucho mas lejos y tuvieron aplicaciones en infinidad de áreas del conocimiento en la historia de Tau. \n",
    "\n",
    "\n",
    "## La noche de los descubrimientos - La Órbita Cuadrada y la desaparición del Sol\n",
    "\n",
    "Los historiadores científicos de Tau cuentan que Joseph y Claudius tomaron nota  de las similitudes de sus trabajos cuando ambos en una noche larga de charla mientras estudiaban para la próxima clase con Hard Leon terminaron intentando calcular cuántas sub-lunas harían falta y con qué radios y períodos orbitales tendrían que girar una alrededor de la otra, para que sumando epiciclos se logre una órbita final anual en la que todo el año se vea  como un cuadrado.  \n",
    "\n",
    "\n",
    "## ¿Qué le pasa a la trayectoria de una bola girando atada a un resorte si se suelta el resorte desde el centro? \n",
    "\n",
    "Si bien no cubriremos éste aspecto en profundidad en éste vídeo (ya que no soy físico y me gustaría que algún físico que vea ésto nos lo explique apropiadamente) vale mencionar que  esa noche, luego de unas cuantas cervezas, Joseph y Claudius postularon que que si el sol desapareciera  (perdiendo toda su masa) instantáneamente, ellos recién notarían el cambio en sus cuerpos luego de unos 8 minutos, durante los cuales el planeta seguiría girando normalmente en su órbita hasta salir disparado de forma similar a como saldría disparada una bola atada a un resorte que hacemos girar a una velocidad constante y luego soltamos el resorte .En Tau todo ésto a su vez tenía relación con el trabajo de  J. Clerk M. completado por Hermann M. y su curiosa introducción del tiempo como una coordenada más y luego gravitando todo hacia el trabajo de su despeinado discípulo Alberto ) (Ver links en la descripción)\n",
    "\n",
    "\n",
    "## Figuras de Lissajous y el armonógrafo de Antoine \n",
    "\n",
    "Imaginaremos como Antoine  ayuda a Claudius y a Joseph a dibujar sus ideas usando ecuaciones paramétricas de las funciones usadas en sus modelos, con la ayuda de en un instrumento muy similar a lo que llamamos osciloscopio aquí en la Tierra.\n",
    "\n",
    "* Plot Ejemplo paraméticas (ver en doc adjunto )\n",
    "\n",
    "\n",
    "Podemos imaginar una especie de osciloscopio Steampunk, con propiedades especiales para darle un toque retro-futurista a la historia. Imaginemos que todas las visualizaciones que vendrán mas adelante, eran realizadas por ellos mientras compartían sus descubrimientos. \n",
    "\n",
    "\n",
    "## The Well-Tempered Clavier\n",
    "\n",
    "Sebastian los inspira ese día logrando tocar 24 piezas musicales de idéntica construcción,pero en diferentes \"tonalidades\".  12 inspiradas progresivamente en  las horas mas luminosas del día y otras 12 para las horas menos luminosas (oscuras) del día. Un músico podrá apreciar la relación que tiene ésto con la escala menor y la escala mayor y las representaciones circulares de los símbolos musicales. \n",
    "\n",
    "\n",
    "## Calendario circular \n",
    "\n",
    "Veremos que, en Tau, usaban un calendario circular de resolución horaria. Cada hora estaba identificada también  por un color que se podía apreciar mirando a su estrella central con un instrumento apropiado. \n",
    "\n",
    "\n",
    "## El juego de Claudius - sumando Epiciclos \n",
    "\n",
    "Comenzando por el más pequeño de los cuerpos del sistema básico (E)strella-(P)laneta-(S)atélite definimos ingenuamente lo siguiente:\n",
    "\n",
    "Si en el conjunto Tierra-Luna  el período en formato días-horas-minutos-segundos es $ T_l=29\\space  d\\space \\space 12\\space h\\space \\space 44\\space m\\space \\space 2.9 \\space s  $ en Tau supondremos que es exactamente un número entero apropiado para tener 12 meses de 30 días teniendo un año con un total exacto de 360 días (Podrás ir imaginando por  qué elegimos el  nombre del planeta como Tau  siendo $\\tau=2\\pi$) la longitud recorrida a lo largo de una vuelta completa ($360º$) en una circunferencia de radio $1u$ \n",
    "\n",
    "El período orbital del satélite  en Tau es entonces:\n",
    "\n",
    "$$T_S=30d$$ \n",
    "\n",
    "Si en el sistema Tierra-Luna el radio orbital promedio de la luna es  $384,403 km$ en Tau tomaremos un camino un tanto sinuoso para definir su valor final, comencemos por definir algunas relaciones fundamentales:\n",
    "\n",
    "Consideremos que queremos aproximar la circunferencia con un polígono regular de $N$ lados de longitud $L$ con $N$ proporcional a $T_S$ podemos pensar en una expresión para el radio orbital del (S)atélite respecto del \n",
    "(P)laneta:\n",
    "\n",
    "\n",
    "$$R_{SP}=R_{_N}\\cdot L $$ \n",
    "\n",
    "Donde $R_{_N}$ será un factor que nos asegurará que estemos formando un polígono  regular con N lados de longitud L .\n",
    "\n",
    "Si dibujamos el cuadrado es fácil ver  por ejemplo  que para $N=4$ y $L=1$ formamos un cuadrado de perímetro $4 u$ y si centramos el cuadrado en el punto $(0,0)$ vemos que el radio del polígono termina siendo la hipotenusa de un triángulo rectángulo,con ángulo respecto a la horizontal de  de :\n",
    "\n",
    "$$\\frac{\\pi}{4}=\\frac{\\tau}{8}$$ \n",
    "\n",
    "o expresado en  grados $45º$. \n",
    "\n",
    "Vemos que  ambos lados tienen longitud $\\frac{1}{2}$ por lo que nos queda:\n",
    "\n",
    "$$R=\\sqrt{\\left(\\frac{1}{2}\\right)^2+\\left(\\frac{1}{2}\\right)^2}=\\frac{1}{\\sqrt{2}}=\\frac{\\sqrt{2}}{2}$$ \n",
    "\n",
    "Con un poco de trigonometría es fácil ver que para cualquier N podemos generalizar usando la siguiente expresión : \n",
    "\n",
    "$$R_N=\\frac{1}{2 \\cdot \\sin{\\left(\\frac{\\pi}{N}\\right)}}=\\frac{1}{2 \\cdot \\sin{\\left(\\frac{\\tau}{2N}\\right)}}$$\n",
    "\n"
   ]
  },
  {
   "cell_type": "markdown",
   "metadata": {},
   "source": [
    "# Figuras de Lissajous\n",
    "\n",
    "Si en un osciloscopio, que normalmente tiene dos canales de entrada que podemos llamar (X,Y) ponemos dos señales sinusoidales distintas, es equivalente a ver la gráfica definida en ecuaciones paramétricas de :\n",
    "\n",
    "$$x(t)=A_x \\sin(\\omega_x t+\\alpha)$$\n",
    "\n",
    "$$y(t)=A_y \\sin(\\omega_y t+\\beta)$$\n",
    "\n",
    "La relación entre las fases de las dos expresiones anteriores se suele llamar :\n",
    "\n",
    "$$\\delta=\\alpha-\\beta$$\n",
    "\n",
    "\n",
    "También podemos escribir:\n",
    "\n",
    "$$x(t)=A_x \\cos(\\omega_x t+\\alpha-\\frac{\\pi}{2})$$\n",
    "\n",
    "$$y(t)=A_y \\sin(\\omega_y t+\\beta)$$\n",
    "\n",
    "\n",
    "### Usando exponenciales complejas\n",
    "\n",
    "$$x(t) = \\frac{A_x}{2i} \\left(e^{i(\\omega_x t + \\alpha)} - e^{-i(\\omega_x t + \\alpha)}\\right)$$\n",
    "\n",
    "$$y(t) = \\frac{A_y}{2i} \\left(e^{i(\\omega_y t + \\beta)} - e^{-i(\\omega_y t + \\beta)}\\right)$$\n",
    "\n",
    "$$z(t)=\\frac{A_x}{2i} \\left(e^{i(\\omega_x t + \\alpha)} - e^{-i(\\omega_x t + \\alpha)}\\right)+i\\frac{A_y}{2i} \\left(e^{i(\\omega_y t + \\beta)} - e^{-i(\\omega_y t + \\beta)}\\right)$$\n",
    "\n",
    "Simplificando y expandiendo podemos escribir:\n",
    "\n",
    "$$\\frac{1}{2} i A_x e^{-i(\\omega_x t + \\alpha)} - \\frac{1}{2} i A_x e^{i(\\omega_x t + \\alpha)} - \\frac{1}{2} A_y e^{-i(\\omega_y t + \\beta)} + \\frac{1}{2} A_y e^{i(\\omega_y t + \\beta)}$$\n",
    "\n",
    "$$\\frac{1}{2} i A_x \\left(e^{-i \\omega_x t} e^{-i \\alpha} \\right) - \\frac{1}{2} i A_x \\left(e^{i \\omega_x t} e^{i \\alpha} \\right) - \\frac{1}{2} A_y \\left(e^{-i \\omega_y t} e^{-i \\beta} \\right) + \\frac{1}{2} A_y \\left(e^{i \\omega_y t} e^{i \\beta} \\right)$$"
   ]
  },
  {
   "cell_type": "markdown",
   "metadata": {},
   "source": [
    "### Usando SymPy para expresar lo anterior"
   ]
  },
  {
   "cell_type": "code",
   "execution_count": 3,
   "metadata": {},
   "outputs": [
    {
     "data": {
      "image/png": "[encoded data removed]",
      "text/latex": [
       "$\\displaystyle \\tau = 2 \\pi$"
      ],
      "text/plain": [
       "τ = 2⋅π"
      ]
     },
     "execution_count": 3,
     "metadata": {},
     "output_type": "execute_result"
    }
   ],
   "source": [
    "# Símbolos típicos definidos como reales o complejos\n",
    "t=sp.Symbol('t',real=True)\n",
    "i=sp.I #Constante imaginaria símbólica sqrt(-1)\n",
    "pi=sp.pi # Pi en foma simbólica dentro de sympy\n",
    "T_p=sp.Symbol('T',real=True) # Período usado en la expresión de omega\n",
    "omega=sp.Symbol('omega',real=True)\n",
    "omega_eq=sp.Equality(omega,2*pi/T_p)\n",
    "Omega=sp.Symbol('Omega',complex=True)\n",
    "theta=sp.Symbol('theta',real=True)\n",
    "Theta=sp.Symbol('Theta',complex=True)\n",
    "R=sp.Symbol('R',real=True)\n",
    "L=sp.Symbol('R',real=True)\n",
    "\n",
    "tau=sp.Symbol('tau',real=True)\n",
    "tau_eq=sp.Equality(tau,2*pi)\n",
    "\n",
    "cplx_exp_rect = cos(t)+i*sin(t)\n",
    "cplx_exp_polar=exp(i*t) \n",
    "tau_eq\n",
    "\n",
    "\n",
    "\n"
   ]
  },
  {
   "cell_type": "code",
   "execution_count": 39,
   "metadata": {},
   "outputs": [
    {
     "data": {
      "image/png": "[encoded data removed]",
      "text/latex": [
       "$\\displaystyle \\overline{\\Omega}$"
      ],
      "text/plain": [
       "_\n",
       "Ω"
      ]
     },
     "execution_count": 39,
     "metadata": {},
     "output_type": "execute_result"
    }
   ],
   "source": [
    "sp.conjugate(Omega)\n"
   ]
  },
  {
   "cell_type": "code",
   "execution_count": 48,
   "metadata": {},
   "outputs": [
    {
     "data": {
      "image/png": "[encoded data removed]",
      "text/latex": [
       "$\\displaystyle \\sqrt{13}$"
      ],
      "text/plain": [
       "√13"
      ]
     },
     "execution_count": 48,
     "metadata": {},
     "output_type": "execute_result"
    }
   ],
   "source": []
  },
  {
   "cell_type": "markdown",
   "metadata": {},
   "source": [
    "### Latex2Sympy\n",
    "\n",
    "Convertimos una expresión matemática que tenemos en LaTex a un objeto simbólico usando sympy. "
   ]
  },
  {
   "cell_type": "code",
   "execution_count": 4,
   "metadata": {},
   "outputs": [
    {
     "data": {
      "image/png": "[encoded data removed]",
      "text/latex": [
       "$\\displaystyle 1 \\cdot \\frac{1}{2 \\sin{\\left(\\frac{\\pi}{N} \\right)}}$"
      ],
      "text/plain": [
       "     1    \n",
       "1⋅────────\n",
       "       ⎛π⎞\n",
       "  2⋅sin⎜─⎟\n",
       "       ⎝N⎠"
      ]
     },
     "execution_count": 4,
     "metadata": {},
     "output_type": "execute_result"
    }
   ],
   "source": [
    "R_N_tex= r\"\\frac{1}{2 \\sin{\\frac{\\pi}{N}}})\"\n",
    "R_N=latex2sympy(R_N_tex )\n",
    "R_N\n"
   ]
  },
  {
   "cell_type": "code",
   "execution_count": 5,
   "metadata": {},
   "outputs": [
    {
     "data": {
      "image/png": "[encoded data removed]",
      "text/latex": [
       "$\\displaystyle \\frac{A_{x} i e^{- \\alpha i - i \\omega_{x} t}}{2} - \\frac{A_{x} i e^{\\alpha i + i \\omega_{x} t}}{2} - \\frac{A_{y} e^{- \\beta i - i \\omega_{y} t}}{2} + \\frac{A_{y} e^{\\beta i + i \\omega_{y} t}}{2}$"
      ],
      "text/plain": [
       "      -α⋅i - i⋅ωₓ⋅t         α⋅i + i⋅ωₓ⋅t        -β⋅i - i⋅ω_y⋅t        β⋅i + i⋅\n",
       "Aₓ⋅i⋅ℯ                Aₓ⋅i⋅ℯ               A_y⋅ℯ                 A_y⋅ℯ        \n",
       "─────────────────── - ────────────────── - ─────────────────── + ─────────────\n",
       "         2                    2                     2                    2    \n",
       "\n",
       "ω_y⋅t\n",
       "     \n",
       "─────\n",
       "     "
      ]
     },
     "execution_count": 5,
     "metadata": {},
     "output_type": "execute_result"
    }
   ],
   "source": [
    "texx=r\"\\frac{1}{2} i A_x \\left(e^{-i \\omega_x t} e^{-i \\alpha} \\right) - \\frac{1}{2} i A_x \\left(e^{i \\omega_x t} e^{i \\alpha} \\right) - \\frac{1}{2} A_y \\left(e^{-i \\omega_y t} e^{-i \\beta} \\right) + \\frac{1}{2} A_y \\left(e^{i \\omega_y t} e^{i \\beta} \\right)\"\n",
    "texx_sp=latex2sympy(texx)\n",
    "texx_sp.simplify(complex=True).collect(sp.Rational(1,2))"
   ]
  },
  {
   "cell_type": "code",
   "execution_count": 6,
   "metadata": {},
   "outputs": [
    {
     "data": {
      "image/png": "[encoded data removed]",
      "text/latex": [
       "$\\displaystyle \\left(\\frac{x}{a}\\right)^{2} + \\left(\\frac{y}{b}\\right)^{2} = 1$"
      ],
      "text/plain": [
       "   2      2    \n",
       "⎛x⎞    ⎛y⎞     \n",
       "⎜─⎟  + ⎜─⎟  = 1\n",
       "⎝a⎠    ⎝b⎠     "
      ]
     },
     "execution_count": 6,
     "metadata": {},
     "output_type": "execute_result"
    }
   ],
   "source": [
    "a=sp.Symbol('a',real=True)\n",
    "b=sp.Symbol('b',real=True)\n",
    "ElipseImplicita_tex=r\"\\left(\\frac{x}{a}\\right)^2+\\left(\\frac{y}{b}\\right)^2\"\n",
    "\n",
    "ElipseImplicita_sympy=sp.Eq(latex2sympy(ElipseImplicita_tex),1)\n",
    "ElipseImplicita_sympy"
   ]
  },
  {
   "cell_type": "code",
   "execution_count": 7,
   "metadata": {},
   "outputs": [
    {
     "data": {
      "image/png": "[encoded data removed]",
      "text/latex": [
       "$\\displaystyle F = \\sqrt{a^{2} - b^{2}}$"
      ],
      "text/plain": [
       "       _________\n",
       "      ╱  2    2 \n",
       "F = ╲╱  a  - b  "
      ]
     },
     "execution_count": 7,
     "metadata": {},
     "output_type": "execute_result"
    }
   ],
   "source": [
    "F=sp.Symbol('F',complex=True)\n",
    "foco_ab_tex=r\"  \\sqrt{a^2-b^2} \"\n",
    "foco_ab_sympy=sp.Equality(F,latex2sympy(foco_ab_tex))\n",
    "foco_ab_sympy"
   ]
  },
  {
   "cell_type": "markdown",
   "metadata": {},
   "source": [
    "### Sympy2Latex\n",
    "\n",
    "Convertimos un objeto simbólico en SymPy a un string en LaTex . Muchas veces la forma mas sencilla de comenzar a escribir todas las ecuaciones a ser analizadas en modo simbólico y luego tomar el LaTex de esas expresiones. Excepto que nos estemos basando en cosas que ya tenemos en LaTex para lo cual sirve Latex2Sympy. "
   ]
  },
  {
   "cell_type": "code",
   "execution_count": 8,
   "metadata": {},
   "outputs": [
    {
     "data": {
      "image/png": "[encoded data removed]",
      "text/latex": [
       "$\\displaystyle \\Theta^{t} = e^{i t}$"
      ],
      "text/plain": [
       " t    ⅈ⋅t\n",
       "Θ  = ℯ   "
      ]
     },
     "execution_count": 8,
     "metadata": {},
     "output_type": "execute_result"
    }
   ],
   "source": [
    "# Notar que .rhs y .lhs hacen referencia al lado derecho e izquierdo de una Eq\n",
    "Theta_t= sp.Equality(Theta**t,sp.exp(i*t)) \n",
    "Theta_t\n"
   ]
  },
  {
   "cell_type": "code",
   "execution_count": 9,
   "metadata": {},
   "outputs": [
    {
     "data": {
      "text/plain": [
       "'\\\\Theta^{t} = e^{i t}'"
      ]
     },
     "execution_count": 9,
     "metadata": {},
     "output_type": "execute_result"
    }
   ],
   "source": [
    "# Obtener el string \n",
    "latex(Theta_t)"
   ]
  },
  {
   "cell_type": "code",
   "execution_count": 10,
   "metadata": {},
   "outputs": [
    {
     "name": "stdout",
     "output_type": "stream",
     "text": [
      "\\Theta^{t} = e^{i t}\n"
     ]
    }
   ],
   "source": [
    "print_latex(Theta_t )"
   ]
  },
  {
   "cell_type": "code",
   "execution_count": 11,
   "metadata": {},
   "outputs": [
    {
     "name": "stdout",
     "output_type": "stream",
     "text": [
      "i \\sin{\\left(t \\right)} + \\cos{\\left(t \\right)}\n"
     ]
    }
   ],
   "source": [
    "print_latex(expand(Theta_t.rhs,complex=True) )"
   ]
  },
  {
   "cell_type": "markdown",
   "metadata": {},
   "source": [
    "$$\\Theta^{t} = e^{i t}=\\cos{\\left(t \\right)} + i \\sin{\\left(t \\right)} $$"
   ]
  },
  {
   "cell_type": "markdown",
   "metadata": {},
   "source": [
    "### Sympy2Numpy\n",
    "\n",
    "Aquí veremos cómo convertir las expresiones simbólicas a funciones que funcionan con la librería numpy, de ésta manera podrás generar arrays que representen las funciones de forma discreta y realizar sus gráficas en matplotlib y manim.  "
   ]
  },
  {
   "cell_type": "code",
   "execution_count": 12,
   "metadata": {},
   "outputs": [],
   "source": [
    "def get_npf(variable,expresion):\n",
    "    # get_NumPy_Function ---> obtengo la función para numpy\n",
    "    npf=lambdify(variable,expresion , modules=['numpy'])\n",
    "    return npf"
   ]
  },
  {
   "cell_type": "code",
   "execution_count": 13,
   "metadata": {},
   "outputs": [
    {
     "data": {
      "image/png": "[encoded data removed]",
      "text/latex": [
       "$\\displaystyle 3 e^{i t} + e^{- i t}$"
      ],
      "text/plain": [
       "   ⅈ⋅t    -ⅈ⋅t\n",
       "3⋅ℯ    + ℯ    "
      ]
     },
     "execution_count": 13,
     "metadata": {},
     "output_type": "execute_result"
    }
   ],
   "source": [
    "# Defino la función en SymPy\n",
    "#a=sp.Rational(1,2)*(1+i)\n",
    "a=sp.Integer(4)  # El 2 expresado en sympy como racional\n",
    "b=sp.Integer(2)\n",
    "R_add=sp.Rational(a+b,2)\n",
    "R_subs=sp.Rational(a-b,2)\n",
    "Elipse_21_compas=R_add*exp(i*t)+R_subs*exp(-i*t) \n",
    "# Obtengo su expresión en LaTex\n",
    "Elipse_21_latex=latex(Elipse_21_compas)\n",
    "Elipse_21_compas"
   ]
  },
  {
   "cell_type": "code",
   "execution_count": 14,
   "metadata": {},
   "outputs": [
    {
     "data": {
      "image/png": "[encoded data removed]",
      "text/latex": [
       "$\\displaystyle 4$"
      ],
      "text/plain": [
       "4"
      ]
     },
     "execution_count": 14,
     "metadata": {},
     "output_type": "execute_result"
    }
   ],
   "source": [
    "a"
   ]
  },
  {
   "cell_type": "code",
   "execution_count": 15,
   "metadata": {},
   "outputs": [
    {
     "data": {
      "image/png": "[encoded data removed]",
      "text/latex": [
       "$\\displaystyle 2$"
      ],
      "text/plain": [
       "2"
      ]
     },
     "execution_count": 15,
     "metadata": {},
     "output_type": "execute_result"
    }
   ],
   "source": [
    "b"
   ]
  },
  {
   "cell_type": "code",
   "execution_count": 16,
   "metadata": {},
   "outputs": [
    {
     "data": {
      "image/png": "[encoded data removed]",
      "text/latex": [
       "$\\displaystyle i \\sin{\\left(t \\right)} + 2 \\cos{\\left(t \\right)}$"
      ],
      "text/plain": [
       "ⅈ⋅sin(t) + 2⋅cos(t)"
      ]
     },
     "execution_count": 16,
     "metadata": {},
     "output_type": "execute_result"
    }
   ],
   "source": [
    "\"\"\" \n",
    "Divido entre 2 para simplificar \n",
    "y expando para mostrar la otra forma del elipse\n",
    "\"\"\"\n",
    "eee=expand(Elipse_21_compas/2,complex=True,frac=True) \n",
    "eee"
   ]
  },
  {
   "cell_type": "markdown",
   "metadata": {},
   "source": [
    "### Obtener parte real e imaginaria de la curva por separado \n",
    "\n",
    "De ésta manera obtenemos las ecuaciones paramétricas de las curvas que usaremos en el dispositivo de Antoine . "
   ]
  },
  {
   "cell_type": "code",
   "execution_count": 17,
   "metadata": {},
   "outputs": [],
   "source": [
    "r=Function('r',real=True)\n",
    "\n",
    "elipse_real=eee.as_real_imag()[0]\n",
    "elipse_imag=eee.as_real_imag()[1]\n",
    "elipse_modulo=sp.Eq( r(t),sp.sqrt(elipse_real**2+elipse_imag**2))\n",
    "elipse_angulo=sp.arg(elipse_real+i*elipse_imag)"
   ]
  },
  {
   "cell_type": "code",
   "execution_count": 18,
   "metadata": {},
   "outputs": [
    {
     "data": {
      "image/png": "[encoded data removed]",
      "text/latex": [
       "$\\displaystyle r{\\left(t \\right)} = \\sqrt{\\sin^{2}{\\left(t \\right)} + 4 \\cos^{2}{\\left(t \\right)}}$"
      ],
      "text/plain": [
       "          _____________________\n",
       "         ╱    2           2    \n",
       "r(t) = ╲╱  sin (t) + 4⋅cos (t) "
      ]
     },
     "execution_count": 18,
     "metadata": {},
     "output_type": "execute_result"
    }
   ],
   "source": [
    "elipse_modulo"
   ]
  },
  {
   "cell_type": "code",
   "execution_count": 19,
   "metadata": {},
   "outputs": [
    {
     "data": {
      "image/png": "[encoded data removed]",
      "text/latex": [
       "$\\displaystyle \\arg{\\left(i \\sin{\\left(t \\right)} + 2 \\cos{\\left(t \\right)} \\right)}$"
      ],
      "text/plain": [
       "arg(ⅈ⋅sin(t) + 2⋅cos(t))"
      ]
     },
     "execution_count": 19,
     "metadata": {},
     "output_type": "execute_result"
    }
   ],
   "source": [
    "elipse_angulo.simplify()"
   ]
  },
  {
   "cell_type": "code",
   "execution_count": 20,
   "metadata": {},
   "outputs": [
    {
     "data": {
      "image/png": "[encoded data removed]",
      "text/latex": [
       "$\\displaystyle 2 \\cos{\\left(t \\right)}$"
      ],
      "text/plain": [
       "2⋅cos(t)"
      ]
     },
     "execution_count": 20,
     "metadata": {},
     "output_type": "execute_result"
    }
   ],
   "source": [
    "elipse_real"
   ]
  },
  {
   "cell_type": "code",
   "execution_count": 21,
   "metadata": {},
   "outputs": [
    {
     "data": {
      "image/png": "[encoded data removed]",
      "text/latex": [
       "$\\displaystyle \\sin{\\left(t \\right)}$"
      ],
      "text/plain": [
       "sin(t)"
      ]
     },
     "execution_count": 21,
     "metadata": {},
     "output_type": "execute_result"
    }
   ],
   "source": [
    "elipse_imag"
   ]
  },
  {
   "cell_type": "code",
   "execution_count": 22,
   "metadata": {},
   "outputs": [
    {
     "data": {
      "image/png": "[encoded data removed]",
      "text/latex": [
       "$\\displaystyle \\operatorname{re}{\\left(x\\right)} + \\operatorname{re}{\\left(y\\right)} + i \\operatorname{im}{\\left(x\\right)} + i \\operatorname{im}{\\left(y\\right)}$"
      ],
      "text/plain": [
       "re(x) + re(y) + ⅈ⋅im(x) + ⅈ⋅im(y)"
      ]
     },
     "execution_count": 22,
     "metadata": {},
     "output_type": "execute_result"
    }
   ],
   "source": [
    "x, y = symbols('x,y')\n",
    "(x + y).expand(complex=True)"
   ]
  },
  {
   "cell_type": "markdown",
   "metadata": {},
   "source": [
    "### Get Numpy Function: Obtengo función numpy para el Elipse de ejemplo"
   ]
  },
  {
   "cell_type": "code",
   "execution_count": 23,
   "metadata": {},
   "outputs": [
    {
     "data": {
      "text/plain": [
       "<function _lambdifygenerated(t)>"
      ]
     },
     "execution_count": 23,
     "metadata": {},
     "output_type": "execute_result"
    }
   ],
   "source": [
    "# Obtengo una función que puedo aplicar a \n",
    "# un  indice del tipo t_discreto=linspace(t_inicio,t_fin,N_muestras)\n",
    "Elipse_21_func=get_npf(t,Elipse_21_compas)\n",
    "Elipse_21_func"
   ]
  },
  {
   "cell_type": "markdown",
   "metadata": {},
   "source": [
    "## Explorando la relación entre el Radio y el N-gon\n",
    "\n",
    "Comenzando desde un triángulo $N=3$ y avanzando hasta  $N=6$ notamos que  nos da :\n",
    "\n",
    "$$R_3=\\frac{1}{2\\sin{(\\frac{\\tau}{6})}}=\\frac{1}{2\\sin{(\\frac{\\pi}{3})}}=\\frac{1}{\\sqrt{3}}$$\n",
    "\n",
    "\n",
    "$$R_4=\\frac{1}{2\\sin{(\\frac{\\tau}{8})}}=\\frac{1}{2\\sin{(\\frac{\\pi}{4})}}=\\frac{1}{\\sqrt{2}}$$\n",
    "\n",
    "Para $N=5$ nos conviene recordar el valor del número irracional por excelencia:\n",
    "\n",
    "$$\\varphi=\\frac{1}{2}(1+\\sqrt{5})$$\n",
    "\n",
    "\n",
    "$$R_5=\\frac{1}{2\\sin{(\\frac{\\pi}{5})}}=\\frac{1}{\\sqrt{3 - \\varphi}}$$\n",
    "\n",
    "\n",
    "$$R_6=\\frac{1}{2\\sin{(\\frac{\\tau}{12})}}=\\frac{1}{2\\sin{(\\frac{\\pi}{6})}}=1$$"
   ]
  },
  {
   "cell_type": "markdown",
   "metadata": {},
   "source": [
    "#### Comprobamos el valor de $R_5$ en función del golden ratio"
   ]
  },
  {
   "cell_type": "code",
   "execution_count": 24,
   "metadata": {},
   "outputs": [
    {
     "data": {
      "image/png": "[encoded data removed]",
      "text/latex": [
       "$\\displaystyle \\frac{1}{2 \\sqrt{\\frac{5}{8} - \\frac{\\sqrt{5}}{8}}}$"
      ],
      "text/plain": [
       "      1       \n",
       "──────────────\n",
       "      ________\n",
       "     ╱ 5   √5 \n",
       "2⋅  ╱  ─ - ── \n",
       "  ╲╱   8   8  "
      ]
     },
     "execution_count": 24,
     "metadata": {},
     "output_type": "execute_result"
    }
   ],
   "source": [
    "R_5=1/(2*sin(pi/5))\n",
    "R_5"
   ]
  },
  {
   "cell_type": "code",
   "execution_count": 25,
   "metadata": {},
   "outputs": [
    {
     "data": {
      "image/png": "[encoded data removed]",
      "text/latex": [
       "$\\displaystyle \\frac{1}{\\sqrt{3 - \\phi}}$"
      ],
      "text/plain": [
       "    1    \n",
       "─────────\n",
       "  _______\n",
       "╲╱ 3 - φ "
      ]
     },
     "execution_count": 25,
     "metadata": {},
     "output_type": "execute_result"
    }
   ],
   "source": [
    "phi=sp.GoldenRatio\n",
    "#phi=sp.Rational(1,2)*(1+sp.sqrt(5))\n",
    "\n",
    "R_5_phi=1/(1*sp.sqrt(3-phi))\n",
    "R_5_phi"
   ]
  },
  {
   "cell_type": "code",
   "execution_count": 26,
   "metadata": {},
   "outputs": [
    {
     "data": {
      "image/png": "[encoded data removed]",
      "text/latex": [
       "$\\displaystyle 0$"
      ],
      "text/plain": [
       "0"
      ]
     },
     "execution_count": 26,
     "metadata": {},
     "output_type": "execute_result"
    }
   ],
   "source": [
    "# Vemos que son el mismo número de forma simbólica\n",
    "(R_5_phi -R_5).simplify()"
   ]
  },
  {
   "cell_type": "code",
   "execution_count": 27,
   "metadata": {},
   "outputs": [
    {
     "name": "stdout",
     "output_type": "stream",
     "text": [
      "\\frac{1}{\\sqrt{3 - \\phi}}\n"
     ]
    }
   ],
   "source": [
    "print_latex(R_5_phi)"
   ]
  },
  {
   "cell_type": "code",
   "execution_count": 28,
   "metadata": {},
   "outputs": [
    {
     "data": {
      "image/png": "[encoded data removed]",
      "text/latex": [
       "$\\displaystyle \\phi$"
      ],
      "text/plain": [
       "φ"
      ]
     },
     "execution_count": 28,
     "metadata": {},
     "output_type": "execute_result"
    }
   ],
   "source": [
    "phi"
   ]
  },
  {
   "cell_type": "code",
   "execution_count": 29,
   "metadata": {},
   "outputs": [
    {
     "data": {
      "text/plain": [
       "Text(0.5, 1.0, '$R_N=1 \\\\cdot \\\\frac{1}{2 \\\\sin{\\\\left(\\\\frac{\\\\pi}{N} \\\\right)}}$')"
      ]
     },
     "execution_count": 29,
     "metadata": {},
     "output_type": "execute_result"
    },
    {
     "data": {
      "image/png": "[encoded data removed]",
      "text/plain": [
       "<Figure size 1200x800 with 1 Axes>"
      ]
     },
     "metadata": {},
     "output_type": "display_data"
    }
   ],
   "source": [
    "N=sp.Symbol('N',integer=True)\n",
    "N_index=np.arange(3,13)\n",
    "R_N_func=get_npf(N,R_N)\n",
    "R_N_array=R_N_func(N_index)\n",
    "plt.figure(figsize=(12,8))\n",
    "#plt.plot(N_index,R_N_array)\n",
    "plt.scatter(N_index,R_N_array)\n",
    "plt.grid()\n",
    "plt.title(f\"$R_N={latex(R_N)}$\")"
   ]
  },
  {
   "cell_type": "code",
   "execution_count": 30,
   "metadata": {},
   "outputs": [
    {
     "data": {
      "image/png": "[encoded data removed]",
      "text/latex": [
       "$\\displaystyle 12.3805738669375$"
      ],
      "text/plain": [
       "12.380573866937521"
      ]
     },
     "execution_count": 30,
     "metadata": {},
     "output_type": "execute_result"
    }
   ],
   "source": [
    "R_N_array.sum()"
   ]
  },
  {
   "cell_type": "markdown",
   "metadata": {},
   "source": [
    "### Sympy2Plot Elipse desde su expresión simbólica "
   ]
  },
  {
   "cell_type": "code",
   "execution_count": 31,
   "metadata": {},
   "outputs": [
    {
     "data": {
      "text/plain": [
       "Text(-1, -1, '\\n         Ejemplo usando N=39\\n         $a= 4$ , $b=2$\\n                  \\n         $x(t)=2 \\\\cos{\\\\left(t \\\\right)}$\\n         \\n         $y(t)=\\\\sin{\\\\left(t \\\\right)}$\\n\\n        $\\\\left(\\\\frac{x}{a}\\\\right)^{2} + \\\\left(\\\\frac{y}{b}\\\\right)^{2} = 1$\\n         \\n         ')"
      ]
     },
     "execution_count": 31,
     "metadata": {},
     "output_type": "execute_result"
    },
    {
     "data": {
      "image/png": "[encoded data removed]",
      "text/plain": [
       "<Figure size 1200x600 with 1 Axes>"
      ]
     },
     "metadata": {},
     "output_type": "display_data"
    }
   ],
   "source": [
    "# Función en SymPy\n",
    "Elipse_21_compas=R_add*exp(i*t)+R_subs*exp(-i*t)\n",
    "\n",
    "# Función Equivalente para NumPy\n",
    "Elipse_21_func=get_npf(t,Elipse_21_compas)\n",
    " \n",
    "N_muestras=13*3\n",
    "t_discreto=np.linspace(0,2*np.pi,N_muestras)\n",
    "\n",
    "\n",
    "# Plot de la función con Matplotlib\n",
    "ancho=12\n",
    "alto=6\n",
    "plt.figure(figsize=(ancho,alto))\n",
    "plt.title(f\"$z(t)= {Elipse_21_latex}$\")\n",
    "plt.plot(Elipse_21_func(t_discreto).real,Elipse_21_func(t_discreto).imag)\n",
    "plt.scatter(Elipse_21_func(t_discreto).real,Elipse_21_func(t_discreto).imag)\n",
    "#plt.grid()\n",
    "#plt.text(0,0,f\"$ {Elipse_21_latex}$\")\n",
    "plt.text(-1,-1,f\"\"\"\n",
    "         Ejemplo usando N={N_muestras}\n",
    "         $a= {latex(a)}$ , $b={latex(b)}$\n",
    "                  \n",
    "         $x(t)={latex(elipse_real)}$\n",
    "         \n",
    "         $y(t)={latex(elipse_imag)}$\n",
    "\n",
    "        ${latex(ElipseImplicita_sympy)}$\n",
    "         \n",
    "         \"\"\",color='gray')"
   ]
  },
  {
   "cell_type": "markdown",
   "metadata": {},
   "source": [
    "### Sym2Tex&Numpy (las dos anteriores en una)"
   ]
  },
  {
   "cell_type": "code",
   "execution_count": 32,
   "metadata": {},
   "outputs": [],
   "source": [
    "def get_tex_and_npf(expresion,variable,values=np.linspace(0,2*np.pi , 360)):\n",
    "    # Obtengo la función numpy, el texto para TeX y una secuencia\n",
    "    # basada en la función en numpy en el rango de valores dado por \"values\".\n",
    "    # La \"expresión\"  \"variable\" debe definirse con sympy fuera de la función \n",
    "    # Si \"values\" no se especifica para el array de salida\n",
    "    # se toma de 0 a 2pi con 360 pasos discretos\n",
    "    tex=latex(expresion)\n",
    "    numpy_function=get_npf(variable,expresion)\n",
    "    numpy_array=numpy_function(values)\n",
    "    return tex,numpy_function,numpy_array  "
   ]
  },
  {
   "cell_type": "markdown",
   "metadata": {},
   "source": [
    "### Expandir función trigonométrica "
   ]
  },
  {
   "cell_type": "code",
   "execution_count": 33,
   "metadata": {},
   "outputs": [
    {
     "data": {
      "image/png": "[encoded data removed]",
      "text/latex": [
       "$\\displaystyle - \\sin{\\left(x \\right)} \\sin{\\left(y \\right)} + \\cos{\\left(x \\right)} \\cos{\\left(y \\right)}$"
      ],
      "text/plain": [
       "-sin(x)⋅sin(y) + cos(x)⋅cos(y)"
      ]
     },
     "execution_count": 33,
     "metadata": {},
     "output_type": "execute_result"
    }
   ],
   "source": [
    "x=sp.Symbol('x',real=True)\n",
    "y=sp.Symbol('y',real=True)\n",
    "cos(x + y).expand(trig=True)"
   ]
  },
  {
   "cell_type": "code",
   "execution_count": 34,
   "metadata": {},
   "outputs": [
    {
     "data": {
      "image/png": "[encoded data removed]",
      "text/latex": [
       "$\\displaystyle i \\sin{\\left(t \\right)} + \\cos{\\left(t \\right)}$"
      ],
      "text/plain": [
       "ⅈ⋅sin(t) + cos(t)"
      ]
     },
     "execution_count": 34,
     "metadata": {},
     "output_type": "execute_result"
    }
   ],
   "source": [
    "expand(Theta_t.rhs,complex=True)"
   ]
  },
  {
   "cell_type": "code",
   "execution_count": 35,
   "metadata": {},
   "outputs": [
    {
     "data": {
      "image/png": "[encoded data removed]",
      "text/plain": [
       "<IPython.core.display.Image object>"
      ]
     },
     "metadata": {},
     "output_type": "display_data"
    }
   ],
   "source": [
    "%%manim -qh MostrarTex\n",
    "x=Symbol('x',complex='True')\n",
    "y=Symbol('y',complex='True')\n",
    "Theta_omega_t= sp.Equality(Theta**(omega*t),exp(i*omega*t))\n",
    "Theta_t= sp.Equality(Theta**t,exp(i*t))\n",
    "phi_relation=Eq(x**2-y**2,x*y)\n",
    "cplx_phi_relation=Eq(x**2+y**2,x*y)\n",
    "\n",
    "TexCenter=MathTex(latex(Theta_omega_t))\n",
    "TexUL=MathTex(latex(phi_relation)).to_edge(UL).scale(0.8)\n",
    "TexUR=MathTex(latex(cplx_phi_relation)).to_edge(UR)\n",
    "TexDL=MathTex(latex(solve(phi_relation,x))).to_corner(DL)\n",
    "TexDR=MathTex(latex(solve(cplx_phi_relation,x))).to_corner(DR)\n",
    "Center_scale=1.8\n",
    "UL_scale=1.2\n",
    "UR_scale=1.2\n",
    "DL_scale=0.65\n",
    "DR_scale=0.65\n",
    "\n",
    "class MostrarTex(Scene):\n",
    "    def construct(self):      \n",
    "      \n",
    "        \n",
    "        self.add(TexCenter.scale(Center_scale))\n",
    "        self.add(TexUL.scale(UL_scale))\n",
    "        self.add(TexUR.scale(UR_scale))       \n",
    "        self.add(TexDL.scale(DL_scale))\n",
    "        self.add(TexDR.scale(DR_scale))"
   ]
  },
  {
   "cell_type": "markdown",
   "metadata": {},
   "source": []
  },
  {
   "cell_type": "markdown",
   "metadata": {},
   "source": []
  },
  {
   "cell_type": "markdown",
   "metadata": {},
   "source": []
  },
  {
   "cell_type": "markdown",
   "metadata": {},
   "source": []
  },
  {
   "cell_type": "markdown",
   "metadata": {},
   "source": []
  },
  {
   "cell_type": "markdown",
   "metadata": {},
   "source": []
  },
  {
   "cell_type": "markdown",
   "metadata": {},
   "source": []
  },
  {
   "cell_type": "markdown",
   "metadata": {},
   "source": [
    "## Links Relacionados\n",
    "\n",
    "Lissajous y Armonógrafo :\n",
    "\n",
    "https://mathworld.wolfram.com/LissajousCurve.html"
   ]
  },
  {
   "cell_type": "markdown",
   "metadata": {},
   "source": []
  }
 ],
 "metadata": {
  "kernelspec": {
   "display_name": "Python 3",
   "language": "python",
   "name": "python3"
  },
  "language_info": {
   "codemirror_mode": {
    "name": "ipython",
    "version": 3
   },
   "file_extension": ".py",
   "mimetype": "text/x-python",
   "name": "python",
   "nbconvert_exporter": "python",
   "pygments_lexer": "ipython3",
   "version": "3.10.12"
  },
  "orig_nbformat": 4
 },
 "nbformat": 4,
 "nbformat_minor": 2
}
